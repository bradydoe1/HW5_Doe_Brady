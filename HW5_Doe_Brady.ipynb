{
 "cells": [
  {
   "cell_type": "code",
   "execution_count": 18,
   "id": "16436bc1",
   "metadata": {},
   "outputs": [],
   "source": [
    "import math\n",
    "\n",
    "class Human:\n",
    "    class_attribute_1_number_of_legs = 2\n",
    "    class_attribute_2_number_of_arms = 2\n",
    "    class_attribute_2_nose = True\n",
    "    \n",
    "    \n",
    "    def __init__(self, height, age, gender, weight):\n",
    "        self.instance_attribute_height = height\n",
    "        self.instance_attribute_age = age\n",
    "        self.instance_attribute_gender = gender\n",
    "        self.instance_attribute_weight = weight\n",
    "        "
   ]
  },
  {
   "cell_type": "code",
   "execution_count": 19,
   "id": "f59d13d9",
   "metadata": {},
   "outputs": [],
   "source": [
    "A = Human(height=\"6 feet\", age=\"23\", gender=\"male\", weight=\"180 pounds\")\n",
    "B = Human(height=\"5 feet\", age=\"25\", gender=\"female\", weight=\"130 pounds\")"
   ]
  },
  {
   "cell_type": "code",
   "execution_count": 25,
   "id": "36d85c80",
   "metadata": {},
   "outputs": [
    {
     "name": "stdout",
     "output_type": "stream",
     "text": [
      "8.602325267042627\n"
     ]
    }
   ],
   "source": [
    "\n",
    "\n",
    "class Point:\n",
    "    def __init__(self, x, y):\n",
    "        self.x = x\n",
    "        self.y = y\n",
    "        \n",
    "    def __repr__(self):\n",
    "        return 'Point({}, {})'.format(self._x, self._y)\n",
    "\n",
    "    \n",
    "    def distance_to_0(self, Point):\n",
    "        distance = math.sqrt((self.x - Point.x)**2 + (self.y - Point.y)**2)\n",
    "        return distance\n",
    "    \n",
    "point1 = Point(0,0)\n",
    "point2 = Point(5,7)\n",
    "\n",
    "dist = point1.distance_to_0(point2)\n",
    "print(dist)"
   ]
  },
  {
   "cell_type": "code",
   "execution_count": null,
   "id": "34fa10d3",
   "metadata": {},
   "outputs": [],
   "source": [
    "#Question 3 is A\n"
   ]
  },
  {
   "cell_type": "code",
   "execution_count": null,
   "id": "decae319",
   "metadata": {},
   "outputs": [],
   "source": [
    "#Question 4 output is \"hello world\""
   ]
  },
  {
   "cell_type": "code",
   "execution_count": null,
   "id": "a60cebec",
   "metadata": {},
   "outputs": [],
   "source": [
    "#Question 5 is C"
   ]
  },
  {
   "cell_type": "code",
   "execution_count": null,
   "id": "50f2f28d",
   "metadata": {},
   "outputs": [],
   "source": [
    "#Question 6 output is an error with the TypeError saying \"Only integers are allowed\""
   ]
  }
 ],
 "metadata": {
  "kernelspec": {
   "display_name": "Python 3 (ipykernel)",
   "language": "python",
   "name": "python3"
  },
  "language_info": {
   "codemirror_mode": {
    "name": "ipython",
    "version": 3
   },
   "file_extension": ".py",
   "mimetype": "text/x-python",
   "name": "python",
   "nbconvert_exporter": "python",
   "pygments_lexer": "ipython3",
   "version": "3.9.13"
  }
 },
 "nbformat": 4,
 "nbformat_minor": 5
}
